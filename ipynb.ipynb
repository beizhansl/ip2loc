{
 "cells": [
  {
   "cell_type": "code",
   "execution_count": 2,
   "metadata": {},
   "outputs": [
    {
     "name": "stdout",
     "output_type": "stream",
     "text": [
      "False\n",
      "False\n"
     ]
    }
   ],
   "source": [
    "class Mycls:\n",
    "    def __init__(self, para: float):\n",
    "        self.para = para\n",
    "\n",
    "obj1 = Mycls(1.)\n",
    "obj2 = Mycls(2.)\n",
    "print(obj1.para is obj2.para)\n",
    "print(id(obj1.para) == id(obj2.para))\n"
   ]
  },
  {
   "cell_type": "code",
   "execution_count": 8,
   "metadata": {},
   "outputs": [
    {
     "name": "stdout",
     "output_type": "stream",
     "text": [
      "{(12.1, 11.5): [2, ['str', 1]], (11.5, 12.1): [2, ['str', 2], ['xx', 1]]}\n",
      "{(12.1, 11.5): [2, ['str', 1], ['xx', 2]], (11.5, 12.1): [12, ['str', 2], ['xx', 1]]}\n"
     ]
    }
   ],
   "source": [
    "loc = [1, ['str',1]]\n",
    "loc[0] += 1\n",
    "loc_dict:dict = {(12.1, 11.5):loc}\n",
    "loc_dict[(11.5,12.1)] = [2,['str',2],['xx',1]]\n",
    "print(loc_dict)\n",
    "loc_dict[(11.5,12.1)][0] += 10\n",
    "loc_dict[(12.1, 11.5)].append(['xx',2])\n",
    "print(loc_dict)\n"
   ]
  },
  {
   "cell_type": "code",
   "execution_count": 12,
   "metadata": {},
   "outputs": [
    {
     "name": "stdout",
     "output_type": "stream",
     "text": [
      "{'status': 'success', 'country': 'China', 'countryCode': 'CN', 'region': 'BJ', 'regionName': 'Beijing', 'city': 'Beijing', 'zip': '', 'lat': 39.9042, 'lon': 116.407, 'timezone': 'Asia/Shanghai', 'isp': 'IDC, China Telecommunications Corporation', 'org': '', 'as': 'AS23724 IDC, China Telecommunications Corporation', 'query': '220.181.174.225'}\n"
     ]
    }
   ],
   "source": [
    "import requests\n",
    "ip = '220.181.174.225'\n",
    "for i in range(1):\n",
    "    res = requests.get('http://ip-api.com/json/'+ip)\n",
    "    if res.status_code!=200:\n",
    "        print(res)\n",
    "    else:\n",
    "        print(res.json())"
   ]
  }
 ],
 "metadata": {
  "kernelspec": {
   "display_name": "base",
   "language": "python",
   "name": "python3"
  },
  "language_info": {
   "codemirror_mode": {
    "name": "ipython",
    "version": 3
   },
   "file_extension": ".py",
   "mimetype": "text/x-python",
   "name": "python",
   "nbconvert_exporter": "python",
   "pygments_lexer": "ipython3",
   "version": "3.9.12"
  },
  "orig_nbformat": 4
 },
 "nbformat": 4,
 "nbformat_minor": 2
}
